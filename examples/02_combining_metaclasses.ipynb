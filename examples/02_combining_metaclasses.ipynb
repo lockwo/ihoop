{
 "cells": [
  {
   "cell_type": "code",
   "execution_count": 2,
   "metadata": {},
   "outputs": [
    {
     "name": "stdout",
     "output_type": "stream",
     "text": [
      "value: 1.0\n"
     ]
    },
    {
     "data": {
      "text/plain": [
       "Array(2., dtype=float32, weak_type=True)"
      ]
     },
     "execution_count": 2,
     "metadata": {},
     "output_type": "execute_result"
    }
   ],
   "source": [
    "import equinox as eqx\n",
    "import ihoop\n",
    "import jax\n",
    "\n",
    "\n",
    "class _StrictEqxMeta(ihoop.strict._StrictMeta, eqx._module._module._ModuleMeta):\n",
    "    def __new__(mcs, name, bases, namespace, **kwargs):\n",
    "        return super().__new__(mcs, name, bases, namespace, **kwargs)\n",
    "\n",
    "\n",
    "class StrictModule(eqx.Module, ihoop.Strict, metaclass=_StrictEqxMeta):\n",
    "    pass\n",
    "\n",
    "\n",
    "class Test(StrictModule):\n",
    "    x: float\n",
    "\n",
    "    def __init__(self):\n",
    "        self.x = 1.0\n",
    "\n",
    "\n",
    "t = Test()\n",
    "print(\"value:\", t.x)\n",
    "\n",
    "\n",
    "def f(x):\n",
    "    return x.x**2\n",
    "\n",
    "\n",
    "jax.jit(jax.grad(f))(t).x"
   ]
  },
  {
   "cell_type": "code",
   "execution_count": null,
   "metadata": {},
   "outputs": [],
   "source": []
  }
 ],
 "metadata": {
  "kernelspec": {
   "display_name": "Python 3.10.16 ('dev_thrml')",
   "language": "python",
   "name": "python3"
  },
  "language_info": {
   "codemirror_mode": {
    "name": "ipython",
    "version": 3
   },
   "file_extension": ".py",
   "mimetype": "text/x-python",
   "name": "python",
   "nbconvert_exporter": "python",
   "pygments_lexer": "ipython3",
   "version": "3.10.16"
  },
  "orig_nbformat": 4,
  "vscode": {
   "interpreter": {
    "hash": "591c6f2f872d065a4e9643c78186d30103ad07846137f2348d83da528974561e"
   }
  }
 },
 "nbformat": 4,
 "nbformat_minor": 2
}
