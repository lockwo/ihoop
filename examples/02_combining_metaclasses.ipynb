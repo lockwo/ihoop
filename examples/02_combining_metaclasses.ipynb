{
 "cells": [
  {
   "cell_type": "code",
   "execution_count": 1,
   "metadata": {},
   "outputs": [
    {
     "ename": "TypeError",
     "evalue": "Cannot inherit from concrete (final) class 'Test'. Class '_InitableModule' attempts to inherit from it. strict classes are either abstract or final.",
     "output_type": "error",
     "traceback": [
      "\u001b[0;31m---------------------------------------------------------------------------\u001b[0m",
      "\u001b[0;31mTypeError\u001b[0m                                 Traceback (most recent call last)",
      "Cell \u001b[0;32mIn[1], line 22\u001b[0m\n\u001b[1;32m     18\u001b[0m     \u001b[39mdef\u001b[39;00m\u001b[39m \u001b[39m\u001b[39m__init__\u001b[39m(\u001b[39mself\u001b[39m):\n\u001b[1;32m     19\u001b[0m         \u001b[39mself\u001b[39m\u001b[39m.\u001b[39mx \u001b[39m=\u001b[39m \u001b[39m1.0\u001b[39m\n\u001b[0;32m---> 22\u001b[0m t \u001b[39m=\u001b[39m Test()\n\u001b[1;32m     23\u001b[0m \u001b[39mprint\u001b[39m(\u001b[39m\"\u001b[39m\u001b[39mvalue:\u001b[39m\u001b[39m\"\u001b[39m, t\u001b[39m.\u001b[39mx)\n\u001b[1;32m     26\u001b[0m \u001b[39mdef\u001b[39;00m\u001b[39m \u001b[39m\u001b[39mf\u001b[39m(x):\n",
      "File \u001b[0;32m~/Documents/ihoop/ihoop/strict.py:179\u001b[0m, in \u001b[0;36m_StrictMeta.__call__\u001b[0;34m(cls, *args, **kwargs)\u001b[0m\n\u001b[1;32m    173\u001b[0m     abs_attrs \u001b[39m=\u001b[39m \u001b[39mlist\u001b[39m(\u001b[39mgetattr\u001b[39m(\u001b[39mcls\u001b[39m, \u001b[39m\"\u001b[39m\u001b[39m_strict_abstract_attributes_\u001b[39m\u001b[39m\"\u001b[39m, \u001b[39mset\u001b[39m()))\n\u001b[1;32m    174\u001b[0m     \u001b[39mraise\u001b[39;00m \u001b[39mTypeError\u001b[39;00m(\n\u001b[1;32m    175\u001b[0m         \u001b[39mf\u001b[39m\u001b[39m\"\u001b[39m\u001b[39mCannot instantiate abstract class \u001b[39m\u001b[39m{\u001b[39;00m\u001b[39mcls\u001b[39m\u001b[39m.\u001b[39m\u001b[39m__name__\u001b[39m\u001b[39m}\u001b[39;00m\u001b[39m. \u001b[39m\u001b[39m\"\u001b[39m\n\u001b[1;32m    176\u001b[0m         \u001b[39mf\u001b[39m\u001b[39m\"\u001b[39m\u001b[39mAbstract elements: methods=\u001b[39m\u001b[39m{\u001b[39;00mabs_methods\u001b[39m}\u001b[39;00m\u001b[39m, attributes=\u001b[39m\u001b[39m{\u001b[39;00mabs_attrs\u001b[39m}\u001b[39;00m\u001b[39m\"\u001b[39m\n\u001b[1;32m    177\u001b[0m     )\n\u001b[0;32m--> 179\u001b[0m instance \u001b[39m=\u001b[39m \u001b[39msuper\u001b[39;49m()\u001b[39m.\u001b[39;49m\u001b[39m__call__\u001b[39;49m(\u001b[39m*\u001b[39;49margs, \u001b[39m*\u001b[39;49m\u001b[39m*\u001b[39;49mkwargs)\n\u001b[1;32m    181\u001b[0m \u001b[39mobject\u001b[39m\u001b[39m.\u001b[39m\u001b[39m__setattr__\u001b[39m(instance, \u001b[39m\"\u001b[39m\u001b[39m_strict_initialized\u001b[39m\u001b[39m\"\u001b[39m, \u001b[39mTrue\u001b[39;00m)\n\u001b[1;32m    183\u001b[0m \u001b[39mreturn\u001b[39;00m instance\n",
      "    \u001b[0;31m[... skipping hidden 1 frame]\u001b[0m\n",
      "File \u001b[0;32m~/miniforge3/envs/dev_thrml/lib/python3.10/site-packages/equinox/_module.py:793\u001b[0m, in \u001b[0;36m_make_initable_wrapper\u001b[0;34m(cls)\u001b[0m\n\u001b[1;32m    791\u001b[0m \u001b[39mdef\u001b[39;00m\u001b[39m \u001b[39m\u001b[39m_make_initable_wrapper\u001b[39m(\u001b[39mcls\u001b[39m: _ActualModuleMeta) \u001b[39m-\u001b[39m\u001b[39m>\u001b[39m _ActualModuleMeta:\n\u001b[1;32m    792\u001b[0m     post_init \u001b[39m=\u001b[39m \u001b[39mgetattr\u001b[39m(\u001b[39mcls\u001b[39m, \u001b[39m\"\u001b[39m\u001b[39m__post_init__\u001b[39m\u001b[39m\"\u001b[39m, \u001b[39mNone\u001b[39;00m)\n\u001b[0;32m--> 793\u001b[0m     \u001b[39mreturn\u001b[39;00m _make_initable(\u001b[39mcls\u001b[39;49m, \u001b[39mcls\u001b[39;49m\u001b[39m.\u001b[39;49m\u001b[39m__init__\u001b[39;49m, post_init, wraps\u001b[39m=\u001b[39;49m\u001b[39mFalse\u001b[39;49;00m)\n",
      "File \u001b[0;32m~/miniforge3/envs/dev_thrml/lib/python3.10/site-packages/equinox/_module.py:811\u001b[0m, in \u001b[0;36m_make_initable\u001b[0;34m(***failed resolving arguments***)\u001b[0m\n\u001b[1;32m    808\u001b[0m \u001b[39melse\u001b[39;00m:\n\u001b[1;32m    809\u001b[0m     field_names \u001b[39m=\u001b[39m {field\u001b[39m.\u001b[39mname \u001b[39mfor\u001b[39;00m field \u001b[39min\u001b[39;00m dataclasses\u001b[39m.\u001b[39mfields(\u001b[39mcls\u001b[39m)}\n\u001b[0;32m--> 811\u001b[0m \u001b[39mclass\u001b[39;00m\u001b[39m \u001b[39m\u001b[39m_InitableModule\u001b[39;00m(_Initable, \u001b[39mcls\u001b[39m):\n\u001b[1;32m    812\u001b[0m     \u001b[39mpass\u001b[39;00m\n\u001b[1;32m    814\u001b[0m \u001b[39mdef\u001b[39;00m\u001b[39m \u001b[39m\u001b[39m__setattr__\u001b[39m(\u001b[39mself\u001b[39m, name, value):\n",
      "Cell \u001b[0;32mIn[1], line 8\u001b[0m, in \u001b[0;36m_StrictEqxMeta.__new__\u001b[0;34m(mcs, name, bases, namespace, **kwargs)\u001b[0m\n\u001b[1;32m      7\u001b[0m \u001b[39mdef\u001b[39;00m\u001b[39m \u001b[39m\u001b[39m__new__\u001b[39m(mcs, name, bases, namespace, \u001b[39m*\u001b[39m\u001b[39m*\u001b[39mkwargs):\n\u001b[0;32m----> 8\u001b[0m     \u001b[39mreturn\u001b[39;00m \u001b[39msuper\u001b[39;49m()\u001b[39m.\u001b[39;49m\u001b[39m__new__\u001b[39;49m(mcs, name, bases, namespace, \u001b[39m*\u001b[39;49m\u001b[39m*\u001b[39;49mkwargs)\n",
      "File \u001b[0;32m~/Documents/ihoop/ihoop/strict.py:121\u001b[0m, in \u001b[0;36m_StrictMeta.__new__\u001b[0;34m(mcs, name, bases, namespace, **kwargs)\u001b[0m\n\u001b[1;32m    119\u001b[0m \u001b[39m# Cannot inherit from a concrete strict class\u001b[39;00m\n\u001b[1;32m    120\u001b[0m \u001b[39mif\u001b[39;00m \u001b[39mnot\u001b[39;00m \u001b[39mgetattr\u001b[39m(base, \u001b[39m\"\u001b[39m\u001b[39m_strict_is_abstract_\u001b[39m\u001b[39m\"\u001b[39m, \u001b[39mTrue\u001b[39;00m):\n\u001b[0;32m--> 121\u001b[0m     \u001b[39mraise\u001b[39;00m \u001b[39mTypeError\u001b[39;00m(\n\u001b[1;32m    122\u001b[0m         \u001b[39mf\u001b[39m\u001b[39m\"\u001b[39m\u001b[39mCannot inherit from concrete (final) class \u001b[39m\u001b[39m'\u001b[39m\u001b[39m{\u001b[39;00mbase\u001b[39m.\u001b[39m\u001b[39m__name__\u001b[39m\u001b[39m}\u001b[39;00m\u001b[39m'\u001b[39m\u001b[39m. \u001b[39m\u001b[39m\"\u001b[39m\n\u001b[1;32m    123\u001b[0m         \u001b[39mf\u001b[39m\u001b[39m\"\u001b[39m\u001b[39mClass \u001b[39m\u001b[39m'\u001b[39m\u001b[39m{\u001b[39;00mname\u001b[39m}\u001b[39;00m\u001b[39m'\u001b[39m\u001b[39m attempts to inherit from it. \u001b[39m\u001b[39m\"\u001b[39m\n\u001b[1;32m    124\u001b[0m         \u001b[39m\"\u001b[39m\u001b[39mstrict classes are either abstract or final.\u001b[39m\u001b[39m\"\u001b[39m\n\u001b[1;32m    125\u001b[0m     )\n\u001b[1;32m    127\u001b[0m \u001b[39m# Cannot override a concrete method from an strict base\u001b[39;00m\n\u001b[1;32m    128\u001b[0m \u001b[39mfor\u001b[39;00m meth_name, meth_obj \u001b[39min\u001b[39;00m namespace\u001b[39m.\u001b[39mitems():\n\u001b[1;32m    129\u001b[0m     \u001b[39m# Allow every class to override its own constructor\u001b[39;00m\n",
      "\u001b[0;31mTypeError\u001b[0m: Cannot inherit from concrete (final) class 'Test'. Class '_InitableModule' attempts to inherit from it. strict classes are either abstract or final."
     ]
    }
   ],
   "source": [
    "# import equinox as eqx\n",
    "# import ihoop\n",
    "# import jax\n",
    "\n",
    "# # works with https://github.com/patrick-kidger/equinox/pull/1028\n",
    "# class _StrictEqxMeta(ihoop.strict._StrictMeta, eqx._module._module._ModuleMeta):\n",
    "#     def __new__(mcs, name, bases, namespace, **kwargs):\n",
    "#         return super().__new__(mcs, name, bases, namespace, **kwargs)\n",
    "\n",
    "\n",
    "# class StrictModule(eqx.Module, ihoop.Strict, metaclass=_StrictEqxMeta):\n",
    "#     pass\n",
    "\n",
    "\n",
    "# class Test(StrictModule):\n",
    "#     x: float\n",
    "\n",
    "#     def __init__(self):\n",
    "#         self.x = 1.0\n",
    "\n",
    "\n",
    "# t = Test()\n",
    "# print(\"value:\", t.x)\n",
    "\n",
    "\n",
    "# def f(x):\n",
    "#     return x.x**2\n",
    "\n",
    "\n",
    "# jax.grad(f)(t).x"
   ]
  },
  {
   "cell_type": "code",
   "execution_count": null,
   "metadata": {},
   "outputs": [],
   "source": []
  }
 ],
 "metadata": {
  "kernelspec": {
   "display_name": "Python 3.10.16 ('dev_thrml')",
   "language": "python",
   "name": "python3"
  },
  "language_info": {
   "codemirror_mode": {
    "name": "ipython",
    "version": 3
   },
   "file_extension": ".py",
   "mimetype": "text/x-python",
   "name": "python",
   "nbconvert_exporter": "python",
   "pygments_lexer": "ipython3",
   "version": "3.10.16"
  },
  "orig_nbformat": 4,
  "vscode": {
   "interpreter": {
    "hash": "591c6f2f872d065a4e9643c78186d30103ad07846137f2348d83da528974561e"
   }
  }
 },
 "nbformat": 4,
 "nbformat_minor": 2
}
