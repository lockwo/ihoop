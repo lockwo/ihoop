{
 "cells": [
  {
   "cell_type": "code",
   "execution_count": 1,
   "metadata": {},
   "outputs": [
    {
     "name": "stdout",
     "output_type": "stream",
     "text": [
      "Can't create Abstract class\n",
      "78.53975\n",
      "red\n",
      "Can't edit class.\n"
     ]
    }
   ],
   "source": [
    "import abc\n",
    "\n",
    "from ihoop import AbstractAttribute, Strict\n",
    "\n",
    "\n",
    "class AbstractShape(Strict):\n",
    "    color: AbstractAttribute[str]\n",
    "\n",
    "    @abc.abstractmethod\n",
    "    def area(self) -> float:\n",
    "        pass\n",
    "\n",
    "    def get_color(self) -> str:\n",
    "        return self.color\n",
    "\n",
    "\n",
    "class Circle(AbstractShape):\n",
    "    color: str\n",
    "\n",
    "    def __init__(self, color: str, radius: float):\n",
    "        if radius < 0:\n",
    "            raise ValueError(\"Radius cannot be negative\")\n",
    "        self.color = color\n",
    "        self.radius = radius\n",
    "\n",
    "    def area(self) -> float:\n",
    "        return 3.14159 * self.radius * self.radius\n",
    "\n",
    "\n",
    "try:\n",
    "    c = AbstractShape()\n",
    "except Exception as _:\n",
    "    print(\"Can't create Abstract class\")\n",
    "\n",
    "c = Circle(\"red\", 5.0)\n",
    "print(c.area())\n",
    "print(c.get_color())\n",
    "\n",
    "try:\n",
    "    c.color = \"hi\"\n",
    "except Exception as _:\n",
    "    print(\"Can't edit class.\")"
   ]
  },
  {
   "cell_type": "code",
   "execution_count": null,
   "metadata": {},
   "outputs": [],
   "source": []
  }
 ],
 "metadata": {
  "kernelspec": {
   "display_name": "Python 3.10.14 ('dev_diffrax')",
   "language": "python",
   "name": "python3"
  },
  "language_info": {
   "codemirror_mode": {
    "name": "ipython",
    "version": 3
   },
   "file_extension": ".py",
   "mimetype": "text/x-python",
   "name": "python",
   "nbconvert_exporter": "python",
   "pygments_lexer": "ipython3",
   "version": "3.10.14"
  },
  "orig_nbformat": 4,
  "vscode": {
   "interpreter": {
    "hash": "01761703e8e304055600d311574f89f8a646f73edac04b8bff1580ad2d98581f"
   }
  }
 },
 "nbformat": 4,
 "nbformat_minor": 2
}
